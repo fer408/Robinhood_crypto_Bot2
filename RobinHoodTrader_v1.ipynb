{
 "cells": [
  {
   "cell_type": "markdown",
   "metadata": {},
   "source": [
    "# Robin Hood Trader version 1.0"
   ]
  },
  {
   "cell_type": "code",
   "execution_count": 1,
   "metadata": {},
   "outputs": [
    {
     "name": "stdout",
     "output_type": "stream",
     "text": [
      "Requirement already satisfied: click in c:\\users\\alarc\\anaconda3\\lib\\site-packages (6.7)\n",
      "Requirement already satisfied: twilio in c:\\users\\alarc\\anaconda3\\lib\\site-packages (6.32.0)\n",
      "Requirement already satisfied: PyJWT>=1.4.2 in c:\\users\\alarc\\anaconda3\\lib\\site-packages (from twilio) (1.7.1)\n",
      "Requirement already satisfied: requests>=2.0.0; python_version >= \"3.0\" in c:\\users\\alarc\\anaconda3\\lib\\site-packages (from twilio) (2.18.4)\n",
      "Requirement already satisfied: pytz in c:\\users\\alarc\\anaconda3\\lib\\site-packages (from twilio) (2018.5)\n",
      "Requirement already satisfied: six in c:\\users\\alarc\\anaconda3\\lib\\site-packages (from twilio) (1.11.0)\n",
      "Requirement already satisfied: certifi>=2017.4.17 in c:\\users\\alarc\\anaconda3\\lib\\site-packages (from requests>=2.0.0; python_version >= \"3.0\"->twilio) (2019.9.11)\n",
      "Requirement already satisfied: chardet<3.1.0,>=3.0.2 in c:\\users\\alarc\\anaconda3\\lib\\site-packages (from requests>=2.0.0; python_version >= \"3.0\"->twilio) (3.0.4)\n",
      "Requirement already satisfied: urllib3<1.23,>=1.21.1 in c:\\users\\alarc\\anaconda3\\lib\\site-packages (from requests>=2.0.0; python_version >= \"3.0\"->twilio) (1.22)\n",
      "Requirement already satisfied: idna<2.7,>=2.5 in c:\\users\\alarc\\anaconda3\\lib\\site-packages (from requests>=2.0.0; python_version >= \"3.0\"->twilio) (2.6)\n",
      "Requirement already satisfied: robin-stocks in c:\\users\\alarc\\anaconda3\\lib\\site-packages (0.9.9.5)\n",
      "Requirement already satisfied: requests in c:\\users\\alarc\\anaconda3\\lib\\site-packages (from robin-stocks) (2.18.4)\n",
      "Requirement already satisfied: chardet<3.1.0,>=3.0.2 in c:\\users\\alarc\\anaconda3\\lib\\site-packages (from requests->robin-stocks) (3.0.4)\n",
      "Requirement already satisfied: certifi>=2017.4.17 in c:\\users\\alarc\\anaconda3\\lib\\site-packages (from requests->robin-stocks) (2019.9.11)\n",
      "Requirement already satisfied: idna<2.7,>=2.5 in c:\\users\\alarc\\anaconda3\\lib\\site-packages (from requests->robin-stocks) (2.6)\n",
      "Requirement already satisfied: urllib3<1.23,>=1.21.1 in c:\\users\\alarc\\anaconda3\\lib\\site-packages (from requests->robin-stocks) (1.22)\n",
      "Requirement already up-to-date: pip in c:\\users\\alarc\\anaconda3\\lib\\site-packages (20.0.2)\n"
     ]
    }
   ],
   "source": [
    "#Install the Robinhood  API Framework robin-stocks\n",
    "!pip install click\n",
    "!pip install twilio\n",
    "!pip install robin-stocks\n",
    "!python -m pip install --upgrade pip\n"
   ]
  },
  {
   "cell_type": "markdown",
   "metadata": {},
   "source": [
    "### Set up Robin Hood Account"
   ]
  },
  {
   "cell_type": "code",
   "execution_count": null,
   "metadata": {},
   "outputs": [
    {
     "name": "stdout",
     "output_type": "stream",
     "text": [
      "ERROR: There was an issue loading pickle file. Authentication may be expired - logging in normally.\n"
     ]
    }
   ],
   "source": [
    "import robin_stocks as r\n",
    "import  pandas as pd\n",
    "from datetime import datetime\n",
    "from twilio.rest import Client\n",
    "\n",
    "#Set up twilio for text messaging gains and buys\n",
    "client = Client(\"AC80b6d17d9b24b3333d3a43dad77cd6f6\", \"dea1e6fae4426a1775cb609c39008559\")\n",
    "#Set up robin-stocks api login info\n",
    "login = r.login('alarconfer12@gmail.com','Mirey12345')"
   ]
  },
  {
   "cell_type": "markdown",
   "metadata": {},
   "source": [
    "## Checking out my stocks"
   ]
  },
  {
   "cell_type": "code",
   "execution_count": null,
   "metadata": {},
   "outputs": [],
   "source": [
    "my_stocks = pd.DataFrame(r.build_holdings())\n",
    "my_stocks"
   ]
  },
  {
   "cell_type": "markdown",
   "metadata": {},
   "source": [
    "## Checking for the Fear and Greed Score on CNN"
   ]
  },
  {
   "cell_type": "code",
   "execution_count": null,
   "metadata": {},
   "outputs": [],
   "source": [
    "#Installing and importing the necessary modules.\n",
    "!pip install requests\n",
    "!pip install bs4\n",
    "import requests \n",
    "from bs4 import BeautifulSoup "
   ]
  },
  {
   "cell_type": "code",
   "execution_count": null,
   "metadata": {},
   "outputs": [],
   "source": [
    "FEAR_AND_GREED_URL = 'https://money.cnn.com/data/fear-and-greed/'\n",
    "F_N_G_PRHASE = 'Fear &amp; Greed Now: '\n",
    "request = requests.get(FEAR_AND_GREED_URL)\n",
    "html = request.content\n",
    "soup = BeautifulSoup(html)\n",
    "div = soup.find_all(id='needleChart')\n",
    "div = str(div[0])\n",
    "position = div.find(F_N_G_PRHASE)\n",
    "position = position + len(F_N_G_PRHASE)\n",
    "current_fear_greed_score = int(div[position:position + 3].strip())\n",
    "print(current_fear_greed_score)"
   ]
  },
  {
   "cell_type": "markdown",
   "metadata": {},
   "source": [
    "### Robin Hood App "
   ]
  },
  {
   "cell_type": "code",
   "execution_count": null,
   "metadata": {},
   "outputs": [],
   "source": [
    "my_crypto_currencies = r.crypto.get_crypto_positions()\n",
    "pd.DataFrame(my_crypto_currencies)"
   ]
  },
  {
   "cell_type": "code",
   "execution_count": null,
   "metadata": {},
   "outputs": [],
   "source": [
    "crypto_names = [val['currency']['code'] for val in my_crypto_currencies]\n",
    "crypto_names"
   ]
  },
  {
   "cell_type": "code",
   "execution_count": null,
   "metadata": {},
   "outputs": [],
   "source": [
    "account = r.profiles.load_account_profile()\n",
    "account"
   ]
  },
  {
   "cell_type": "code",
   "execution_count": null,
   "metadata": {},
   "outputs": [],
   "source": [
    "print(float(account['buying_power']) / float(r.crypto.get_crypto_quote(\"DOGE\")['ask_price']))\n",
    "def payout():\n",
    "    r.orders.order_sell_crypto_by_quantity(crypto_names[name], my_crypto_currencies[name]['quantity'], priceType='mark_price')"
   ]
  },
  {
   "cell_type": "code",
   "execution_count": null,
   "metadata": {},
   "outputs": [],
   "source": [
    "#r.orders.order_buy_crypto_by_price('LTC', float(account['buying_power']) * 0.99, priceType='mark_price', timeInForce='gtc')"
   ]
  },
  {
   "cell_type": "markdown",
   "metadata": {},
   "source": [
    "### Cryptocurrency Trader 2.5:"
   ]
  },
  {
   "cell_type": "code",
   "execution_count": null,
   "metadata": {},
   "outputs": [],
   "source": [
    "###### Create a list with all of the cryptocurrency codes necessary to access their cryptocurrency information on the robin hood API\n",
    "crypto_names = [val['currency']['code'] for val in my_crypto_currencies]\n",
    "\n",
    "#Import the time library to be able to run the algorithm for a certain set of time.\n",
    "import time\n",
    "\n",
    "#Variables for common time data_types\n",
    "hour = (60 * 60)\n",
    "day = hour * 24\n",
    "month = day * 30\n",
    "\n",
    "#Create a dictionary with the key being the cryptocurrency code and the value being the initial buying value \n",
    "buying_prices = {'initial_DOGE_price': 0.00274,\n",
    "                 'initial_ETC_price': 10.37,\n",
    "                  'initial_BTC_price': 8750,\n",
    "                  'initial_LTC_price': 53.26,\n",
    "                  'initial_BSV_price': 390,\n",
    "                  'initial_ETH_price': 170,\n",
    "                  'initial_BCH_price': 380\n",
    "                }\n",
    "\n",
    "#Create a dicitionary with a value corresponding to the qunatity of coins of each crypto\n",
    "quantities = {'DOGE_quantity': my_crypto_currencies[6]['quantity'],\n",
    "              'ETC_quantity': my_crypto_currencies[4]['quantity'],\n",
    "              'BTC_quantity': my_crypto_currencies[3]['quantity'],\n",
    "              'BCH_quantity': my_crypto_currencies[0]['quantity'],\n",
    "              'LTC_quantity': my_crypto_currencies[1]['quantity'],\n",
    "              'BSV_quantity': my_crypto_currencies[5]['quantity'],\n",
    "              'ETH_quantity': my_crypto_currencies[2]['quantity']\n",
    "             }\n",
    "\n",
    "#Create a end point\n",
    "end = time.time() + month #Using a month at a time due to this being a test\n",
    "\n",
    "#Create a dictionary to keep the buying thresholds for each stock\n",
    "crypto_buying_thresholds = {}\n",
    "\n",
    "\n",
    "while time.time() < end:\n",
    "    try:\n",
    "        try:\n",
    "            #Create a dictionary to keep track of the asking price for each stock\n",
    "            my_cryptos_asking_price = {}\n",
    "            #Loop over all the names inside of the crypto_names list\n",
    "            for name in range(len(crypto_names)):\n",
    "                #Keep track of old price\n",
    "                old_price = buying_prices['initial_' + crypto_names[name] + '_price']\n",
    "                #Get the price for the crypto in question and add it to the brypto_asking_price dictionary\n",
    "                ask_crypto_price = r.crypto.get_crypto_quote(crypto_names[name])['mark_price']\n",
    "                print(crypto_names[name] + ': ' + str(ask_crypto_price) + '\\n' + 'sold: ' , float(r.crypto.get_crypto_quote(crypto_names[name])['mark_price']) >= (buying_prices['initial_' + crypto_names[name] + '_price'] * 1.025))\n",
    "                my_cryptos_asking_price[crypto_names[name]] = ask_crypto_price\n",
    "                sell_crypto = {'sell': float(ask_crypto_price) >= (buying_prices['initial_' + crypto_names[name] + '_price'] * 1.2)}\n",
    "                if float(my_crypto_currencies[name]['quantity']) > 0:\n",
    "                    #if price gets below a certain price point sell as to not be stuck holding bag for a substantial amount of time.\n",
    "                    if (float(r.crypto.get_crypto_quote(crypto_names[name])['mark_price']) <= (buying_prices['initial_' + crypto_names[name] + '_price'] * .85)):\n",
    "                        #Sell my crypto coins\n",
    "                        r.orders.order_sell_crypto_by_quantity(crypto_names[name],float(my_crypto_currencies[name]['quantity']), priceType='bid_price')\n",
    "                    #If the current asking price is more than or equal to the selling threshold\n",
    "                    if (float(r.crypto.get_crypto_quote(crypto_names[name])['mark_price']) >= (buying_prices['initial_' + crypto_names[name] + '_price'] * 1.25)):\n",
    "                        print('sale of ' + crypto_names[name] + ' made at a gain!')\n",
    "                        #Get the current crypto price\n",
    "                        current_crypto_price = float(ask_crypto_price)\n",
    "                        sale_price = {'sale_price': current_crypto_price}\n",
    "                        #Sell my crypto coins\n",
    "                        r.orders.order_sell_crypto_by_quantity(crypto_names[name],float(my_crypto_currencies[name]['quantity']), priceType='bid_price')\n",
    "                        print(((float(ask_crypto_price) >= (buying_prices['initial_' + crypto_names[name] + '_price'] * 1.0014)) or (float(ask_crypto_price) < (buying_prices['initial_' + crypto_names[name] + '_price'] * .9))) and float(my_crypto_currencies[name]['quantity']) > 0.00\n",
    "    )\n",
    "                        #Set a buy threshold for crypto coin\n",
    "                        buy_threshold = (old_price + current_crypto_price) / 2\n",
    "                        #Store buying threhshold in the crypto_buying_threshold dictionary\n",
    "                        crypto_buying_thresholds[crypto_names[name]] = buy_threshold\n",
    "                        #print('Made a sell of ' + crypto_names[name] + 'worth: ' + str(current_crypto_price - buying_prices['initial_' + crypto_names[name] + '_price']))\n",
    "                #If thre are any elements inside of the crypto_buying_thresholds dictionary and the name of the crypto is inside of the dictionary\n",
    "                if (len(crypto_buying_thresholds) > 0) and (crypto_names[name] in crypto_buying_thresholds):\n",
    "                #If the current_crypto_price is less than the threshold set for buying crypto\n",
    "                    print('Made buy for ' + crypto_names[name] + ' = ' + str((current_crypto_price <= crypto_buying_thresholds[crypto_names[name]]) and (float(account['buying_power'])> 0.06)))\n",
    "                    if (current_crypto_price <= crypto_buying_thresholds[crypto_names[name]]) and (float(account['buying_power'])> 0.06):\n",
    "                        #Get the current price of crypto price\n",
    "                        buying_prices['initial_' + crypto_names[name] + '_price'] = float(ask_crypto_price)\n",
    "                        #Buy the named crypto\n",
    "                        r.orders.order_buy_crypto_by_price(crypto_names[name], float(account['buying_power']) * 0.99, priceType='mark_price', timeInForce='gtc')\n",
    "                print('time: ' + str(datetime.now())) \n",
    "        except TypeError:\n",
    "            pass\n",
    "    except ValueError:\n",
    "        pass"
   ]
  },
  {
   "cell_type": "markdown",
   "metadata": {},
   "source": [
    "### Cryptocurrency Trader 2.0:"
   ]
  },
  {
   "cell_type": "code",
   "execution_count": null,
   "metadata": {},
   "outputs": [],
   "source": [
    "#### Create a list with all of the cryptocurrency codes necessary to access their cryptocurrency information on the robin hood API\n",
    "crypto_names = [val['currency']['code'] for val in my_crypto_currencies]\n",
    "\n",
    "#Import the time library to be able to run the algorithm for a certain set of time.\n",
    "import time\n",
    "\n",
    "#Variables for common time data_types\n",
    "hour = (60 * 60)\n",
    "day = hour * 24\n",
    "month = day * 30\n",
    "\n",
    "#Create a dictionary with the key being the cryptocurrency code and the value being the initial buying value \n",
    "buying_prices = {'initial_DOGE_price': 0.00273,\n",
    "                 'initial_ETC_price': 5.73  ,\n",
    "                  'initial_BTC_price': 8575.71,\n",
    "                  'initial_LTC_price': 55,\n",
    "                  'initial_BSV_price': 211,\n",
    "                  'initial_ETH_price': 150,\n",
    "                  'initial_BCH_price': 295\n",
    "                }\n",
    "\n",
    "#Create a dicitionary with a value corresponding to the qunatity of coins of each crypto\n",
    "quantities = {'DOGE_quantity': my_crypto_currencies[6]['quantity'],\n",
    "              'ETC_quantity': my_crypto_currencies[4]['quantity'],\n",
    "              'BTC_quantity': my_crypto_currencies[3]['quantity'],\n",
    "              'BCH_quantity': my_crypto_currencies[0]['quantity'],\n",
    "              'LTC_quantity': my_crypto_currencies[1]['quantity'],\n",
    "              'BSV_quantity': my_crypto_currencies[5]['quantity'],\n",
    "              'ETH_quantity': my_crypto_currencies[2]['quantity']\n",
    "             }\n",
    "\n",
    "#Create a end point\n",
    "end = time.time() + month #Using a month at a time due to this being a test\n",
    "\n",
    "#Create a dictionary to keep the buying thresholds for each stock\n",
    "crypto_buying_thresholds = {}\n",
    "if (float(r.crypto.get_crypto_quote('LTC')['mark_price']) >= (buying_prices['initial_LTC_price'] * 1.0125)):\n",
    "    r.orders.order_sell_crypto_by_quantity('LTC', my_crypto_currencies[1]['quantity'])\n",
    "#While the current unix time is less than the current unix time plus a month of time\n",
    "while time.time() < end:\n",
    "    #So long as there are no errors\n",
    "    try:\n",
    "        try:\n",
    "            try:\n",
    "                #Create a dictionary to keep track of the asking price for each stock\n",
    "                my_cryptos_asking_price = {}\n",
    "                #Loop over all the names inside of the crypto_names list\n",
    "                for name in range(len(crypto_names)):\n",
    "                    #Get the price for the crypto in question and add it to the brypto_asking_price dictionary\n",
    "                    ask_crypto_price = r.crypto.get_crypto_quote(crypto_names[name])['mark_price']\n",
    "                    my_cryptos_asking_price[crypto_names[name]] = ask_crypto_price\n",
    "                    sell_crypto = {'sell': float(ask_crypto_price) >= (buying_prices['initial_' + crypto_names[name] + '_price'] * 1.00175)}\n",
    "                    #If the current asking price is more than or equal to the selling threshold\n",
    "                    if (float(ask_crypto_price) >= (buying_prices['initial_' + crypto_names[name] + '_price'] * 1.05)):\n",
    "                            print('sale of ' + crypto_names[name] + ' made!')\n",
    "                            #Get the current crypto price\n",
    "                            current_crypto_price = float(ask_crypto_price)\n",
    "                            sale_price = {'sale_price': current_crypto_price}\n",
    "                            #Sell my crypto coins\n",
    "                            r.orders.order_sell_crypto_by_quantity(crypto_names[name],float(my_crypto_currencies[name]['quantity']) * 0.875, priceType='mark_price', timeInForce='gtc')\n",
    "                            #print(((float(ask_crypto_price) >= (buying_prices['initial_' + crypto_names[name] + '_price'] * 1.0125)) or (float(ask_crypto_price) >= (buying_prices['initial_' + crypto_names[name] + '_price'] * .9))) and float(my_crypto_currencies[name]['quantity']) >= 0.00)\n",
    "                            #Set a buy threshold for crypto coin\n",
    "                            buy_threshold = current_crypto_price * .993\n",
    "                            #Store buying threhshold in the crypto_buying_threshold dictionary\n",
    "                            crypto_buying_thresholds[crypto_names[name]] = buy_threshold\n",
    "                            #print('Made a sell of ' + crypto_names[name] + 'worth: ' + str(current_crypto_price - buying_prices['initial_' + crypto_names[name] + '_price']))\n",
    "                            #Get the current price of crypto price\n",
    "                            buying_prices['initial_' + crypto_names[name] + '_price'] = float(ask_crypto_price)\n",
    "\n",
    "                    #If thre are any elements inside of the crypto_buying_thresholds dictionary and the name of the crypto is inside of the dictionary\n",
    "                    if (len(crypto_buying_thresholds)) > 0 and (crypto_names[name] in crypto_buying_thresholds):\n",
    "                            #If the current_crypto_price is less than the threshold set for buying crypto\n",
    "                            print('Made buy for ' + crypto_names[name] + ' = ' + str((current_crypto_price <= crypto_buying_thresholds[crypto_names[name]]) and (float(account['buying_power'])> 0.06)))\n",
    "                            if (current_crypto_price <= crypto_buying_thresholds[crypto_names[name]]) and (float(account['buying_power'])> 0.06):\n",
    "                                #Buy the named crypto\n",
    "                                r.orders.order_buy_crypto_by_price(crypto_names[name], float(account['buying_power']) * 0.99, priceType='mark_price', timeInForce='gtc')\n",
    "                    #print(name + ': '  + ask_crypto_price)\n",
    "            except TypeError:\n",
    "                pass\n",
    "        except ConnectionError:  \n",
    "            pass\n",
    "    #If there is an ValueError\n",
    "    except ValueError:\n",
    "        #Ignore error and move on\n",
    "        pass\n",
    "    print(my_cryptos_asking_price)"
   ]
  },
  {
   "cell_type": "markdown",
   "metadata": {},
   "source": [
    "### CryptoTrader 1.0:"
   ]
  },
  {
   "cell_type": "code",
   "execution_count": null,
   "metadata": {},
   "outputs": [],
   "source": [
    "##### Import the time library to be able to run the algorithm for a certain set of time.\n",
    "import time\n",
    "\n",
    "#Variables for common time data_types\n",
    "hour = (60 * 60)\n",
    "day = hour * 24\n",
    "month = day * 30\n",
    "\n",
    "#Create a end point\n",
    "end = time.time() + month #Using a month at a time due to this being a test\n",
    "\n",
    "#While the current unix time is less than the current unix time plus a month of time\n",
    "while time.time() < end:\n",
    "    #Try as long as no error pops up\n",
    "    try:\n",
    "        #Get prices for my cryptocurrency portfolio\n",
    "        ask_DOGE_price = r.crypto.get_crypto_quote(\"DOGE\")['ask_price']\n",
    "        ask_BSV_price = r.crypto.get_crypto_quote(\"BSV\")['ask_price']\n",
    "        ask_ETH_price = r.crypto.get_crypto_quote(\"ETH\")['ask_price']\n",
    "        ask_BTC_price = r.crypto.get_crypto_quote(\"BTC\")['ask_price']\n",
    "        ask_ETC_price = r.crypto.get_crypto_quote(\"ETC\")['ask_price']\n",
    "        #print the prices of my cryptocurrency portfolio\n",
    "        portfolio = {'DOGE': ask_DOGE_price,\n",
    "                     'BSV': ask_BSV_price,\n",
    "                     'ETH': ask_ETH_price,\n",
    "                     'BTC': ask_BTC_price,\n",
    "                     'ETC': ask_ETC_price}\n",
    "        print(portfolio)\n",
    "        #If the price of DOGE is less than or equal to 0.00318\n",
    "        if float(ask_DOGE_price) >= 0.00318 and float(my_crypto_currencies[-1]['quantity']) >= 0:\n",
    "            #Get the current price of DOGECOIN price\n",
    "            current_DOGE_price = ask_DOGE_price\n",
    "            #Sell my DOGE coins\n",
    "            r.orders.order_sell_crypto_by_quantity('DOGE',my_crypto_currencies[-1]['quantity'], priceType='ask_price', timeInForce='gtc')\n",
    "            #Set a buy threshold for DOGE coin\n",
    "            buy_threshold = current_DOGE_price * 0.985\n",
    "            #if the DOGECOIN asking price is less than or equal to the buying threshold\n",
    "            if float(ask_DOGE_price) <= buy_threshold:\n",
    "                #Buy 100 dollars woth of DOGECOIN\n",
    "                r.orders.order_buy_crypto_by_price('DOGE', 80)\n",
    "        #If the price of Bitcoin SV is more than or equal to 96.2\n",
    "        if float(ask_BSV_price) >= 96.2 and float(my_crypto_currencies[-2]['quantity']) >= 0:\n",
    "            #Get the current Bitcoin SV price\n",
    "            current_BSV_price = ask_BSV_price\n",
    "            #Sell my Bitcoin SV coins\n",
    "            r.orders.order_sell_crypto_by_quantity('BSV',my_crypto_currencies[-2]['quantity'], priceType='ask_price', timeInForce='gtc')\n",
    "            #Set the Bitcoin SV buying threshold\n",
    "            BSV_buy_threshold = current_BSV_price * 0.985\n",
    "            #if the Bitcoin SV asking price is less than or equal to the buying threshold for\n",
    "            #Bitcoin SV\n",
    "            if current_preicefloat(BSV_buy_threshold):\n",
    "                #Buy 10 dollars worth of Bitcoin SV\n",
    "                r.orders.order_buy_crypto_by_price('BSV', 8)\n",
    "        #If the price of Etherium is less than or equal to 172.08 dollars\n",
    "        print(float(ask_ETH_price) >= 172.08)\n",
    "        print(float(my_crypto_currencies[1]['quantity']) >= 0)\n",
    "        if float(ask_ETH_price) >= 172.08 and float(my_crypto_currencies[1]['quantity']):\n",
    "            #Get the current Etherium price\n",
    "            current_ETH_price = ask_ETH_price\n",
    "            #Sell my Etherium coins\n",
    "            r.orders.order_sell_crypto_by_quantity('ETH',my_crypto_currencies[1]['quantity'], priceType='ask_price', timeInForce='gtc')\n",
    "        #If the price of Bitcoin is less than or equal to 8350 dollars\n",
    "        if float(ask_BTC_price) >= 8350.00 and float(my_crypto_currencies[2]['quantity']) >= 0:\n",
    "            #Get the current Bitcoin price\n",
    "            current_BTC_price = ask_BTC_price\n",
    "            #Sell my Bitcoin coins\n",
    "            r.orders.order_sell_crypto_by_quantity('BTC',my_crypto_currencies[2]['quantity'], priceType='ask_price', timeInForce='gtc')\n",
    "        #If the price of Etherium Classic is less than or equal to 4.53 dollars\n",
    "        if float(ask_ETC_price) >= 4.53 and float(my_crypto_currencies[3]['quantity']) >= 0:\n",
    "            #Get the current Etherium Classic price\n",
    "            current_BSV_price = ask_BSV_price\n",
    "            #Sell my Etherium Classic coins\n",
    "            r.orders.order_sell_crypto_by_quantity('ETC',my_crypto_currencies[3]['quantity'], priceType='ask_price', timeInForce='gtc')\n",
    "    #Except when a type error occurs\n",
    "    except TypeError:\n",
    "        #Simply move to the next api call\n",
    "        pass"
   ]
  }
 ],
 "metadata": {
  "kernelspec": {
   "display_name": "Python 3",
   "language": "python",
   "name": "python3"
  },
  "language_info": {
   "codemirror_mode": {
    "name": "ipython",
    "version": 3
   },
   "file_extension": ".py",
   "mimetype": "text/x-python",
   "name": "python",
   "nbconvert_exporter": "python",
   "pygments_lexer": "ipython3",
   "version": "3.7.0"
  }
 },
 "nbformat": 4,
 "nbformat_minor": 2
}
